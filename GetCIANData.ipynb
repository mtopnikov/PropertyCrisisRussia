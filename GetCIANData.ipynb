{
 "cells": [
  {
   "cell_type": "code",
   "execution_count": 1,
   "metadata": {},
   "outputs": [],
   "source": [
    "import pandas as pd\n",
    "import json\n",
    "import requests\n",
    "from collections import defaultdict\n",
    "from time import sleep\n",
    "from tqdm import tqdm_notebook as tqdm"
   ]
  },
  {
   "cell_type": "markdown",
   "metadata": {},
   "source": [
    "# Define Functions"
   ]
  },
  {
   "cell_type": "markdown",
   "metadata": {},
   "source": [
    "Нужно переопределить директории для файлов под свой комп. Самое важное - под каждый город отдельная папка с названием таким же, как называются листы в Excel'e с гридами\n",
    "\n",
    "\n",
    "Общий вид пути:\n",
    "\n",
    "```{python}\n",
    "'D:/папка где у тебя проекты/папка проекта/папка с данными/папка города/сегодняшняя дата.csv'\n",
    "```"
   ]
  },
  {
   "cell_type": "code",
   "execution_count": 2,
   "metadata": {},
   "outputs": [],
   "source": [
    "def send_request(bbox):    \n",
    "    url = 'https://www.cian.ru/cian-api/mobile-site/v2/offers/clusters/'\n",
    "\n",
    "    params = {\n",
    "        'deal_type' : 'rent', 'engine_version' : 2,\n",
    "        'offer_type' : 'offices', 'office_type[0]' : 1,\n",
    "        'office_type[10]' : 12, 'office_type[1]' : 2,\n",
    "        'office_type[2]' : 3, 'office_type[3]' : 4,\n",
    "        'office_type[4]' : 5, 'office_type[5]' : 6,\n",
    "        'office_type[6]' : 7, 'office_type[7]' : 9,\n",
    "        'office_type[8]' : 10, 'office_type[9]' : 11,\n",
    "        'screen_area': 354,\n",
    "        'bbox' : f\"{bbox['minx']},{bbox['miny']},{bbox['maxx']},{bbox['maxy']}\",\n",
    "        'deal_type' : 1, 'allow_precision_correction' : 0, 'zoom' : 15       \n",
    "    }\n",
    "\n",
    "    data = requests.get(url, params = params).json()\n",
    "    \n",
    "    return data"
   ]
  },
  {
   "cell_type": "code",
   "execution_count": 3,
   "metadata": {},
   "outputs": [],
   "source": [
    "def get_data(name, grid):\n",
    "    datums = defaultdict(dict)\n",
    "\n",
    "    for i, bbox in tqdm(grid.iterrows(), total = grid.shape[0], desc = name):\n",
    "#         pass\n",
    "        try:\n",
    "            datum = send_request(bbox)\n",
    "            datums[i] = datum\n",
    "        except Exception as e:\n",
    "            try:\n",
    "                if e[0] == 'Connection aborted.':\n",
    "                    sleep(2)\n",
    "                    datum = send_request(bbox)\n",
    "                    datums[i] = datum\n",
    "            except:\n",
    "                continue\n",
    "        sleep(0.5)\n",
    "        if i > 0 and i % 1000 == 0:\n",
    "            with open('D:/data_projects/commerical_death/datum_cian_{}.json'.format(name), 'w') as outfile:\n",
    "                json.dump(datums, outfile)\n",
    "\n",
    "    with open('D:/data_projects/commerical_death/datum_cian_{}.json'.format(name), 'w') as outfile:\n",
    "        json.dump(datums, outfile)"
   ]
  },
  {
   "cell_type": "code",
   "execution_count": 4,
   "metadata": {},
   "outputs": [],
   "source": [
    "def parce_json(name, today):\n",
    "    with open('D:/data_projects/commerical_death/datum_cian_{}.json'.format(name)) as infile:\n",
    "        datums = json.load(infile)\n",
    "\n",
    "    series_list = []\n",
    "    for key, datum in datums.items():\n",
    "        for offer in datum['data']['offers']:\n",
    "            series_list.append(pd.Series(offer))\n",
    "\n",
    "#     cian_data = pd.DataFrame(series_list).set_index('cian_id')\n",
    "    cian_data = pd.DataFrame(series_list)\n",
    "    \n",
    "    cian_data.to_csv('D:/data_projects/commerical_death/{}/{}.csv'.format(name, today), index = None)"
   ]
  },
  {
   "cell_type": "markdown",
   "metadata": {},
   "source": [
    "\n",
    "# What day is it today?"
   ]
  },
  {
   "cell_type": "code",
   "execution_count": 5,
   "metadata": {},
   "outputs": [
    {
     "name": "stdout",
     "output_type": "stream",
     "text": [
      "2020-07-04\n"
     ]
    }
   ],
   "source": [
    "today = str(pd.datetime.today().date())\n",
    "\n",
    "print(today)"
   ]
  },
  {
   "cell_type": "code",
   "execution_count": 2,
   "metadata": {},
   "outputs": [
    {
     "data": {
      "text/plain": [
       "'2020-06-27'"
      ]
     },
     "execution_count": 2,
     "metadata": {},
     "output_type": "execute_result"
    }
   ],
   "source": [
    "today = '2020-06-27'\n",
    "today"
   ]
  },
  {
   "cell_type": "markdown",
   "metadata": {},
   "source": [
    "# Getting data"
   ]
  },
  {
   "cell_type": "markdown",
   "metadata": {},
   "source": [
    "## City selector pt.1a"
   ]
  },
  {
   "cell_type": "code",
   "execution_count": 7,
   "metadata": {},
   "outputs": [],
   "source": [
    "my_filter = ['Moscow', 'NizNovgorod', 'Kazan']\n",
    "\n",
    "\n",
    "grids = pd.read_excel('City_Grids.xlsx', sheet_name = my_filter)"
   ]
  },
  {
   "cell_type": "markdown",
   "metadata": {},
   "source": [
    "## City selector pt.1b"
   ]
  },
  {
   "cell_type": "code",
   "execution_count": 13,
   "metadata": {},
   "outputs": [],
   "source": [
    "my_filter = ['Ufa', 'Ekaterinburg', 'Tyumen', 'Omsk']\n",
    "\n",
    "\n",
    "grids = pd.read_excel('City_Grids.xlsx', sheet_name = my_filter)"
   ]
  },
  {
   "cell_type": "markdown",
   "metadata": {},
   "source": [
    "## City selector pt.2"
   ]
  },
  {
   "cell_type": "code",
   "execution_count": 8,
   "metadata": {},
   "outputs": [],
   "source": [
    "andrew_filter = ['Novosibirsk', 'Krasnoyarsk', 'Irkutsk', 'Chita',\n",
    "                 'Blagoveschensk', 'Khabarovsk', 'Vladivostok']\n",
    "\n",
    "grids = pd.read_excel('City_Grids.xlsx', sheet_name = andrew_filter)"
   ]
  },
  {
   "cell_type": "markdown",
   "metadata": {},
   "source": [
    "## Getting data, storing to files"
   ]
  },
  {
   "cell_type": "code",
   "execution_count": 8,
   "metadata": {},
   "outputs": [
    {
     "data": {
      "application/vnd.jupyter.widget-view+json": {
       "model_id": "0701e31a950c438e9baf1a1185ea9a8e",
       "version_major": 2,
       "version_minor": 0
      },
      "text/plain": [
       "HBox(children=(IntProgress(value=0, description='Moscow', max=13248, style=ProgressStyle(description_width='in…"
      ]
     },
     "metadata": {},
     "output_type": "display_data"
    },
    {
     "name": "stdout",
     "output_type": "stream",
     "text": [
      "\n"
     ]
    },
    {
     "data": {
      "application/vnd.jupyter.widget-view+json": {
       "model_id": "4376041e156e4ff4911d6d7eeab53d8b",
       "version_major": 2,
       "version_minor": 0
      },
      "text/plain": [
       "HBox(children=(IntProgress(value=0, description='NizNovgorod', max=3234, style=ProgressStyle(description_width…"
      ]
     },
     "metadata": {},
     "output_type": "display_data"
    },
    {
     "name": "stdout",
     "output_type": "stream",
     "text": [
      "\n"
     ]
    },
    {
     "data": {
      "application/vnd.jupyter.widget-view+json": {
       "model_id": "f56e03a126fe46feb06182649ad68a3a",
       "version_major": 2,
       "version_minor": 0
      },
      "text/plain": [
       "HBox(children=(IntProgress(value=0, description='Kazan', max=4588, style=ProgressStyle(description_width='init…"
      ]
     },
     "metadata": {},
     "output_type": "display_data"
    },
    {
     "name": "stdout",
     "output_type": "stream",
     "text": [
      "\n"
     ]
    }
   ],
   "source": [
    "# today = str(pd.datetime.today().date())\n",
    "for name, grid in grids.items():\n",
    "    get_data(name, grid)\n",
    "    parce_json(name, today)"
   ]
  },
  {
   "cell_type": "code",
   "execution_count": null,
   "metadata": {},
   "outputs": [],
   "source": []
  }
 ],
 "metadata": {
  "kernelspec": {
   "display_name": "Python 3",
   "language": "python",
   "name": "python3"
  },
  "language_info": {
   "codemirror_mode": {
    "name": "ipython",
    "version": 3
   },
   "file_extension": ".py",
   "mimetype": "text/x-python",
   "name": "python",
   "nbconvert_exporter": "python",
   "pygments_lexer": "ipython3",
   "version": "3.7.4"
  }
 },
 "nbformat": 4,
 "nbformat_minor": 2
}

{
 "cells": [
  {
   "cell_type": "code",
   "execution_count": 79,
   "metadata": {},
   "outputs": [],
   "source": [
    "import os\n",
    "import pandas as pd\n",
    "import matplotlib.pyplot as plt\n",
    "from matplotlib import font_manager as fm\n",
    "import seaborn as sns\n",
    "\n",
    "\n",
    "medium_font = fm.FontProperties(fname =  \"D:/bachelors/datasets/viz/Roboto-Medium.ttf\", size = 12)\n",
    "regluar_font = fm.FontProperties(fname = \"D:/bachelors/datasets/viz/Roboto-Regular.ttf\", size = 12)\n",
    "\n",
    "colors = {\n",
    "    'peach' : '#FCB886',\n",
    "    'blue' : '#6FC7F7',\n",
    "    'green' : '#78AF34',\n",
    "    'red' : '#D25B5B',\n",
    "    'grey' : '#8B8B8B'\n",
    "}"
   ]
  },
  {
   "cell_type": "code",
   "execution_count": 80,
   "metadata": {},
   "outputs": [],
   "source": [
    "from IPython.core.display import display, HTML\n",
    "from ipywidgets import widgets\n",
    "\n",
    "folders = [x for x in os.listdir('D:/Google Drive/Projects/commercial_death/data/') if 'json' not in x]\n",
    "folders = [x for x in folders if 'csv' not in x]\n",
    "folders = [x for x in folders if 'ini' not in x]\n",
    "\n",
    "dp = widgets.DatePicker(description = 'Date:')\n",
    "selector = widgets.Dropdown(description = 'City:', options = folders)"
   ]
  },
  {
   "cell_type": "code",
   "execution_count": 81,
   "metadata": {},
   "outputs": [
    {
     "data": {
      "application/vnd.jupyter.widget-view+json": {
       "model_id": "4e9b14b75c94415187f64eb96db2053a",
       "version_major": 2,
       "version_minor": 0
      },
      "text/plain": [
       "interactive(children=(Dropdown(description='City:', options=('Blagoveschensk', 'Chita', 'Ekaterinburg', 'Irkut…"
      ]
     },
     "metadata": {},
     "output_type": "display_data"
    }
   ],
   "source": [
    "def f(selector, dp):\n",
    "    try:\n",
    "        df_4 = pd.read_csv(f\"D:/Google Drive/Projects/commercial_death/data/{selector}/{str(dp)}.csv\")\n",
    "        df_4['creation_date'] = pd.to_datetime(df_4['creation_date'])\n",
    "\n",
    "        df_4.set_index('creation_date').resample('1d')['cian_id'].nunique().plot(figsize = (10,7))\n",
    "        plt.xlim(left = pd.Timestamp('2020-01-01'))\n",
    "        plt.ylim(bottom = 0)\n",
    "        plt.xticks(fontproperties = regluar_font)\n",
    "        plt.yticks(fontproperties = regluar_font)\n",
    "        plt.xlabel('Creation date',  fontproperties = medium_font)\n",
    "        plt.grid(which = 'both')\n",
    "    except:\n",
    "        display(HTML('Sorry, no data avaliable'))\n",
    "\n",
    "interactive_plot = interactive(f, selector = selector, dp = dp)\n",
    "output = interactive_plot.children[-1]\n",
    "# output.layout.height = '350px'\n",
    "interactive_plot"
   ]
  },
  {
   "cell_type": "markdown",
   "metadata": {},
   "source": [
    "# Maps"
   ]
  },
  {
   "cell_type": "code",
   "execution_count": null,
   "metadata": {},
   "outputs": [],
   "source": []
  }
 ],
 "metadata": {
  "kernelspec": {
   "display_name": "Python 3",
   "language": "python",
   "name": "python3"
  },
  "language_info": {
   "codemirror_mode": {
    "name": "ipython",
    "version": 3
   },
   "file_extension": ".py",
   "mimetype": "text/x-python",
   "name": "python",
   "nbconvert_exporter": "python",
   "pygments_lexer": "ipython3",
   "version": "3.7.4"
  }
 },
 "nbformat": 4,
 "nbformat_minor": 2
}
